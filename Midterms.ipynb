{
 "cells": [
  {
   "cell_type": "markdown",
   "metadata": {},
   "source": [
    "# MIDTERMS"
   ]
  },
  {
   "cell_type": "code",
   "execution_count": 282,
   "metadata": {},
   "outputs": [],
   "source": [
    "import pandas as pd\n",
    "from sklearn.metrics import mean_squared_error"
   ]
  },
  {
   "cell_type": "code",
   "execution_count": 283,
   "metadata": {},
   "outputs": [],
   "source": [
    "import pandas as pd\n",
    "import numpy as np\n",
    "import matplotlib.pyplot as plt\n",
    "import seaborn as sns\n",
    "import statsmodels.api as sm\n",
    "\n",
    "from sklearn.metrics import r2_score\n",
    "from sklearn.model_selection import train_test_split\n",
    "from sklearn.preprocessing import MinMaxScaler, StandardScaler\n",
    "from sklearn.linear_model import LinearRegression\n",
    "from sklearn.metrics import mean_squared_error, r2_score"
   ]
  },
  {
   "cell_type": "markdown",
   "metadata": {},
   "source": [
    "## Dataset file"
   ]
  },
  {
   "cell_type": "code",
   "execution_count": 284,
   "metadata": {},
   "outputs": [],
   "source": [
    "dataset_url = 'https://github.com/robitussin/CCMACLRL_EXAM/blob/a46a4e2a001dedaefc9b431d480b508ce86c2d96/datasets/train.csv?raw=true'\n",
    "df = pd.read_csv(dataset_url)"
   ]
  },
  {
   "cell_type": "code",
   "execution_count": 285,
   "metadata": {},
   "outputs": [
    {
     "data": {
      "text/html": [
       "<div>\n",
       "<style scoped>\n",
       "    .dataframe tbody tr th:only-of-type {\n",
       "        vertical-align: middle;\n",
       "    }\n",
       "\n",
       "    .dataframe tbody tr th {\n",
       "        vertical-align: top;\n",
       "    }\n",
       "\n",
       "    .dataframe thead th {\n",
       "        text-align: right;\n",
       "    }\n",
       "</style>\n",
       "<table border=\"1\" class=\"dataframe\">\n",
       "  <thead>\n",
       "    <tr style=\"text-align: right;\">\n",
       "      <th></th>\n",
       "      <th>id</th>\n",
       "      <th>brand</th>\n",
       "      <th>model</th>\n",
       "      <th>model_year</th>\n",
       "      <th>milage</th>\n",
       "      <th>fuel_type</th>\n",
       "      <th>engine</th>\n",
       "      <th>transmission</th>\n",
       "      <th>ext_col</th>\n",
       "      <th>int_col</th>\n",
       "      <th>accident</th>\n",
       "      <th>clean_title</th>\n",
       "      <th>price</th>\n",
       "    </tr>\n",
       "  </thead>\n",
       "  <tbody>\n",
       "    <tr>\n",
       "      <th>0</th>\n",
       "      <td>0</td>\n",
       "      <td>MINI</td>\n",
       "      <td>Cooper S Base</td>\n",
       "      <td>2007</td>\n",
       "      <td>213000</td>\n",
       "      <td>Gasoline</td>\n",
       "      <td>172.0HP 1.6L 4 Cylinder Engine Gasoline Fuel</td>\n",
       "      <td>A/T</td>\n",
       "      <td>Yellow</td>\n",
       "      <td>Gray</td>\n",
       "      <td>None reported</td>\n",
       "      <td>Yes</td>\n",
       "      <td>4200</td>\n",
       "    </tr>\n",
       "    <tr>\n",
       "      <th>1</th>\n",
       "      <td>1</td>\n",
       "      <td>Lincoln</td>\n",
       "      <td>LS V8</td>\n",
       "      <td>2002</td>\n",
       "      <td>143250</td>\n",
       "      <td>Gasoline</td>\n",
       "      <td>252.0HP 3.9L 8 Cylinder Engine Gasoline Fuel</td>\n",
       "      <td>A/T</td>\n",
       "      <td>Silver</td>\n",
       "      <td>Beige</td>\n",
       "      <td>At least 1 accident or damage reported</td>\n",
       "      <td>Yes</td>\n",
       "      <td>4999</td>\n",
       "    </tr>\n",
       "    <tr>\n",
       "      <th>2</th>\n",
       "      <td>2</td>\n",
       "      <td>Chevrolet</td>\n",
       "      <td>Silverado 2500 LT</td>\n",
       "      <td>2002</td>\n",
       "      <td>136731</td>\n",
       "      <td>E85 Flex Fuel</td>\n",
       "      <td>320.0HP 5.3L 8 Cylinder Engine Flex Fuel Capab...</td>\n",
       "      <td>A/T</td>\n",
       "      <td>Blue</td>\n",
       "      <td>Gray</td>\n",
       "      <td>None reported</td>\n",
       "      <td>Yes</td>\n",
       "      <td>13900</td>\n",
       "    </tr>\n",
       "    <tr>\n",
       "      <th>3</th>\n",
       "      <td>3</td>\n",
       "      <td>Genesis</td>\n",
       "      <td>G90 5.0 Ultimate</td>\n",
       "      <td>2017</td>\n",
       "      <td>19500</td>\n",
       "      <td>Gasoline</td>\n",
       "      <td>420.0HP 5.0L 8 Cylinder Engine Gasoline Fuel</td>\n",
       "      <td>Transmission w/Dual Shift Mode</td>\n",
       "      <td>Black</td>\n",
       "      <td>Black</td>\n",
       "      <td>None reported</td>\n",
       "      <td>Yes</td>\n",
       "      <td>45000</td>\n",
       "    </tr>\n",
       "    <tr>\n",
       "      <th>4</th>\n",
       "      <td>4</td>\n",
       "      <td>Mercedes-Benz</td>\n",
       "      <td>Metris Base</td>\n",
       "      <td>2021</td>\n",
       "      <td>7388</td>\n",
       "      <td>Gasoline</td>\n",
       "      <td>208.0HP 2.0L 4 Cylinder Engine Gasoline Fuel</td>\n",
       "      <td>7-Speed A/T</td>\n",
       "      <td>Black</td>\n",
       "      <td>Beige</td>\n",
       "      <td>None reported</td>\n",
       "      <td>Yes</td>\n",
       "      <td>97500</td>\n",
       "    </tr>\n",
       "  </tbody>\n",
       "</table>\n",
       "</div>"
      ],
      "text/plain": [
       "   id          brand              model  model_year  milage      fuel_type  \\\n",
       "0   0           MINI      Cooper S Base        2007  213000       Gasoline   \n",
       "1   1        Lincoln              LS V8        2002  143250       Gasoline   \n",
       "2   2      Chevrolet  Silverado 2500 LT        2002  136731  E85 Flex Fuel   \n",
       "3   3        Genesis   G90 5.0 Ultimate        2017   19500       Gasoline   \n",
       "4   4  Mercedes-Benz        Metris Base        2021    7388       Gasoline   \n",
       "\n",
       "                                              engine  \\\n",
       "0       172.0HP 1.6L 4 Cylinder Engine Gasoline Fuel   \n",
       "1       252.0HP 3.9L 8 Cylinder Engine Gasoline Fuel   \n",
       "2  320.0HP 5.3L 8 Cylinder Engine Flex Fuel Capab...   \n",
       "3       420.0HP 5.0L 8 Cylinder Engine Gasoline Fuel   \n",
       "4       208.0HP 2.0L 4 Cylinder Engine Gasoline Fuel   \n",
       "\n",
       "                     transmission ext_col int_col  \\\n",
       "0                             A/T  Yellow    Gray   \n",
       "1                             A/T  Silver   Beige   \n",
       "2                             A/T    Blue    Gray   \n",
       "3  Transmission w/Dual Shift Mode   Black   Black   \n",
       "4                     7-Speed A/T   Black   Beige   \n",
       "\n",
       "                                 accident clean_title  price  \n",
       "0                           None reported         Yes   4200  \n",
       "1  At least 1 accident or damage reported         Yes   4999  \n",
       "2                           None reported         Yes  13900  \n",
       "3                           None reported         Yes  45000  \n",
       "4                           None reported         Yes  97500  "
      ]
     },
     "execution_count": 285,
     "metadata": {},
     "output_type": "execute_result"
    }
   ],
   "source": [
    "df.head()"
   ]
  },
  {
   "cell_type": "code",
   "execution_count": 286,
   "metadata": {},
   "outputs": [
    {
     "data": {
      "text/plain": [
       "id                  0\n",
       "brand               0\n",
       "model               0\n",
       "model_year          0\n",
       "milage              0\n",
       "fuel_type        5083\n",
       "engine              0\n",
       "transmission        0\n",
       "ext_col             0\n",
       "int_col             0\n",
       "accident         2452\n",
       "clean_title     21419\n",
       "price               0\n",
       "dtype: int64"
      ]
     },
     "execution_count": 286,
     "metadata": {},
     "output_type": "execute_result"
    }
   ],
   "source": [
    "df.isnull().sum()"
   ]
  },
  {
   "cell_type": "code",
   "execution_count": 287,
   "metadata": {},
   "outputs": [],
   "source": [
    "df.dropna(inplace=True)"
   ]
  },
  {
   "cell_type": "code",
   "execution_count": 288,
   "metadata": {},
   "outputs": [
    {
     "data": {
      "text/plain": [
       "id              0\n",
       "brand           0\n",
       "model           0\n",
       "model_year      0\n",
       "milage          0\n",
       "fuel_type       0\n",
       "engine          0\n",
       "transmission    0\n",
       "ext_col         0\n",
       "int_col         0\n",
       "accident        0\n",
       "clean_title     0\n",
       "price           0\n",
       "dtype: int64"
      ]
     },
     "execution_count": 288,
     "metadata": {},
     "output_type": "execute_result"
    }
   ],
   "source": [
    "df.isnull().sum()"
   ]
  },
  {
   "cell_type": "code",
   "execution_count": 289,
   "metadata": {},
   "outputs": [
    {
     "data": {
      "text/html": [
       "<div>\n",
       "<style scoped>\n",
       "    .dataframe tbody tr th:only-of-type {\n",
       "        vertical-align: middle;\n",
       "    }\n",
       "\n",
       "    .dataframe tbody tr th {\n",
       "        vertical-align: top;\n",
       "    }\n",
       "\n",
       "    .dataframe thead th {\n",
       "        text-align: right;\n",
       "    }\n",
       "</style>\n",
       "<table border=\"1\" class=\"dataframe\">\n",
       "  <thead>\n",
       "    <tr style=\"text-align: right;\">\n",
       "      <th></th>\n",
       "      <th>id</th>\n",
       "      <th>brand</th>\n",
       "      <th>model</th>\n",
       "      <th>model_year</th>\n",
       "      <th>milage</th>\n",
       "      <th>fuel_type</th>\n",
       "      <th>engine</th>\n",
       "      <th>transmission</th>\n",
       "      <th>ext_col</th>\n",
       "      <th>int_col</th>\n",
       "      <th>accident</th>\n",
       "      <th>clean_title</th>\n",
       "      <th>price</th>\n",
       "    </tr>\n",
       "  </thead>\n",
       "  <tbody>\n",
       "    <tr>\n",
       "      <th>136930</th>\n",
       "      <td>136930</td>\n",
       "      <td>Chevrolet</td>\n",
       "      <td>Suburban LTZ</td>\n",
       "      <td>2016</td>\n",
       "      <td>69764</td>\n",
       "      <td>Gasoline</td>\n",
       "      <td>355.0HP 5.3L 8 Cylinder Engine Gasoline Fuel</td>\n",
       "      <td>6-Speed A/T</td>\n",
       "      <td>Black</td>\n",
       "      <td>Black</td>\n",
       "      <td>None reported</td>\n",
       "      <td>Yes</td>\n",
       "      <td>25500</td>\n",
       "    </tr>\n",
       "    <tr>\n",
       "      <th>14964</th>\n",
       "      <td>14964</td>\n",
       "      <td>BMW</td>\n",
       "      <td>330e iPerformance</td>\n",
       "      <td>2019</td>\n",
       "      <td>14642</td>\n",
       "      <td>Plug-In Hybrid</td>\n",
       "      <td>247.0HP 2.0L 4 Cylinder Engine Plug-In Electri...</td>\n",
       "      <td>8-Speed A/T</td>\n",
       "      <td>Blue</td>\n",
       "      <td>Beige</td>\n",
       "      <td>None reported</td>\n",
       "      <td>Yes</td>\n",
       "      <td>39500</td>\n",
       "    </tr>\n",
       "    <tr>\n",
       "      <th>8215</th>\n",
       "      <td>8215</td>\n",
       "      <td>Nissan</td>\n",
       "      <td>350Z Touring</td>\n",
       "      <td>2007</td>\n",
       "      <td>110000</td>\n",
       "      <td>Gasoline</td>\n",
       "      <td>306.0HP 3.5L V6 Cylinder Engine Gasoline Fuel</td>\n",
       "      <td>6-Speed M/T</td>\n",
       "      <td>Black</td>\n",
       "      <td>Orange</td>\n",
       "      <td>None reported</td>\n",
       "      <td>Yes</td>\n",
       "      <td>6500</td>\n",
       "    </tr>\n",
       "    <tr>\n",
       "      <th>27055</th>\n",
       "      <td>27055</td>\n",
       "      <td>Mercedes-Benz</td>\n",
       "      <td>AMG C 43 Base 4MATIC</td>\n",
       "      <td>2021</td>\n",
       "      <td>17900</td>\n",
       "      <td>Gasoline</td>\n",
       "      <td>362.0HP 3.0L V6 Cylinder Engine Gasoline Fuel</td>\n",
       "      <td>9-Speed A/T</td>\n",
       "      <td>Gray</td>\n",
       "      <td>Black</td>\n",
       "      <td>At least 1 accident or damage reported</td>\n",
       "      <td>Yes</td>\n",
       "      <td>52000</td>\n",
       "    </tr>\n",
       "    <tr>\n",
       "      <th>169247</th>\n",
       "      <td>169247</td>\n",
       "      <td>Hyundai</td>\n",
       "      <td>Elantra N Base</td>\n",
       "      <td>2017</td>\n",
       "      <td>62930</td>\n",
       "      <td>Gasoline</td>\n",
       "      <td>188.0HP 1.6L 4 Cylinder Engine Gasoline Fuel</td>\n",
       "      <td>6-Speed A/T</td>\n",
       "      <td>Gray</td>\n",
       "      <td>Black</td>\n",
       "      <td>None reported</td>\n",
       "      <td>Yes</td>\n",
       "      <td>22000</td>\n",
       "    </tr>\n",
       "    <tr>\n",
       "      <th>164074</th>\n",
       "      <td>164074</td>\n",
       "      <td>Chevrolet</td>\n",
       "      <td>Camaro 2SS</td>\n",
       "      <td>2018</td>\n",
       "      <td>70000</td>\n",
       "      <td>Gasoline</td>\n",
       "      <td>455.0HP 6.2L 8 Cylinder Engine Gasoline Fuel</td>\n",
       "      <td>6-Speed A/T</td>\n",
       "      <td>White</td>\n",
       "      <td>Black</td>\n",
       "      <td>None reported</td>\n",
       "      <td>Yes</td>\n",
       "      <td>22000</td>\n",
       "    </tr>\n",
       "    <tr>\n",
       "      <th>83585</th>\n",
       "      <td>83585</td>\n",
       "      <td>Jeep</td>\n",
       "      <td>Wrangler Sahara</td>\n",
       "      <td>2009</td>\n",
       "      <td>173452</td>\n",
       "      <td>Gasoline</td>\n",
       "      <td>202.0HP 3.8L V6 Cylinder Engine Gasoline Fuel</td>\n",
       "      <td>4-Speed A/T</td>\n",
       "      <td>Gray</td>\n",
       "      <td>Beige</td>\n",
       "      <td>None reported</td>\n",
       "      <td>Yes</td>\n",
       "      <td>6500</td>\n",
       "    </tr>\n",
       "    <tr>\n",
       "      <th>77731</th>\n",
       "      <td>77731</td>\n",
       "      <td>BMW</td>\n",
       "      <td>335 i</td>\n",
       "      <td>2011</td>\n",
       "      <td>69764</td>\n",
       "      <td>Gasoline</td>\n",
       "      <td>300.0HP 3.0L Straight 6 Cylinder Engine Gasoli...</td>\n",
       "      <td>A/T</td>\n",
       "      <td>Black</td>\n",
       "      <td>Black</td>\n",
       "      <td>At least 1 accident or damage reported</td>\n",
       "      <td>Yes</td>\n",
       "      <td>27500</td>\n",
       "    </tr>\n",
       "    <tr>\n",
       "      <th>179636</th>\n",
       "      <td>179636</td>\n",
       "      <td>Chevrolet</td>\n",
       "      <td>Camaro ZL1</td>\n",
       "      <td>2020</td>\n",
       "      <td>13900</td>\n",
       "      <td>Gasoline</td>\n",
       "      <td>650.0HP 6.2L 8 Cylinder Engine Gasoline Fuel</td>\n",
       "      <td>10-Speed A/T</td>\n",
       "      <td>Blue</td>\n",
       "      <td>Black</td>\n",
       "      <td>None reported</td>\n",
       "      <td>Yes</td>\n",
       "      <td>65000</td>\n",
       "    </tr>\n",
       "    <tr>\n",
       "      <th>72375</th>\n",
       "      <td>72375</td>\n",
       "      <td>Ford</td>\n",
       "      <td>Flex SEL</td>\n",
       "      <td>2016</td>\n",
       "      <td>68000</td>\n",
       "      <td>Gasoline</td>\n",
       "      <td>262.0HP 3.5L V6 Cylinder Engine Gasoline Fuel</td>\n",
       "      <td>6-Speed A/T</td>\n",
       "      <td>Blue</td>\n",
       "      <td>Beige</td>\n",
       "      <td>None reported</td>\n",
       "      <td>Yes</td>\n",
       "      <td>27000</td>\n",
       "    </tr>\n",
       "  </tbody>\n",
       "</table>\n",
       "</div>"
      ],
      "text/plain": [
       "            id          brand                 model  model_year  milage  \\\n",
       "136930  136930      Chevrolet          Suburban LTZ        2016   69764   \n",
       "14964    14964            BMW     330e iPerformance        2019   14642   \n",
       "8215      8215         Nissan          350Z Touring        2007  110000   \n",
       "27055    27055  Mercedes-Benz  AMG C 43 Base 4MATIC        2021   17900   \n",
       "169247  169247        Hyundai        Elantra N Base        2017   62930   \n",
       "164074  164074      Chevrolet            Camaro 2SS        2018   70000   \n",
       "83585    83585           Jeep       Wrangler Sahara        2009  173452   \n",
       "77731    77731            BMW                 335 i        2011   69764   \n",
       "179636  179636      Chevrolet            Camaro ZL1        2020   13900   \n",
       "72375    72375           Ford              Flex SEL        2016   68000   \n",
       "\n",
       "             fuel_type                                             engine  \\\n",
       "136930        Gasoline       355.0HP 5.3L 8 Cylinder Engine Gasoline Fuel   \n",
       "14964   Plug-In Hybrid  247.0HP 2.0L 4 Cylinder Engine Plug-In Electri...   \n",
       "8215          Gasoline      306.0HP 3.5L V6 Cylinder Engine Gasoline Fuel   \n",
       "27055         Gasoline      362.0HP 3.0L V6 Cylinder Engine Gasoline Fuel   \n",
       "169247        Gasoline       188.0HP 1.6L 4 Cylinder Engine Gasoline Fuel   \n",
       "164074        Gasoline       455.0HP 6.2L 8 Cylinder Engine Gasoline Fuel   \n",
       "83585         Gasoline      202.0HP 3.8L V6 Cylinder Engine Gasoline Fuel   \n",
       "77731         Gasoline  300.0HP 3.0L Straight 6 Cylinder Engine Gasoli...   \n",
       "179636        Gasoline       650.0HP 6.2L 8 Cylinder Engine Gasoline Fuel   \n",
       "72375         Gasoline      262.0HP 3.5L V6 Cylinder Engine Gasoline Fuel   \n",
       "\n",
       "        transmission ext_col int_col                                accident  \\\n",
       "136930   6-Speed A/T   Black   Black                           None reported   \n",
       "14964    8-Speed A/T    Blue   Beige                           None reported   \n",
       "8215     6-Speed M/T   Black  Orange                           None reported   \n",
       "27055    9-Speed A/T    Gray   Black  At least 1 accident or damage reported   \n",
       "169247   6-Speed A/T    Gray   Black                           None reported   \n",
       "164074   6-Speed A/T   White   Black                           None reported   \n",
       "83585    4-Speed A/T    Gray   Beige                           None reported   \n",
       "77731            A/T   Black   Black  At least 1 accident or damage reported   \n",
       "179636  10-Speed A/T    Blue   Black                           None reported   \n",
       "72375    6-Speed A/T    Blue   Beige                           None reported   \n",
       "\n",
       "       clean_title  price  \n",
       "136930         Yes  25500  \n",
       "14964          Yes  39500  \n",
       "8215           Yes   6500  \n",
       "27055          Yes  52000  \n",
       "169247         Yes  22000  \n",
       "164074         Yes  22000  \n",
       "83585          Yes   6500  \n",
       "77731          Yes  27500  \n",
       "179636         Yes  65000  \n",
       "72375          Yes  27000  "
      ]
     },
     "execution_count": 289,
     "metadata": {},
     "output_type": "execute_result"
    }
   ],
   "source": [
    "df.sample(10)"
   ]
  },
  {
   "cell_type": "code",
   "execution_count": 290,
   "metadata": {},
   "outputs": [
    {
     "data": {
      "text/plain": [
       "np.int64(0)"
      ]
     },
     "execution_count": 290,
     "metadata": {},
     "output_type": "execute_result"
    }
   ],
   "source": [
    "df.duplicated().sum()"
   ]
  },
  {
   "cell_type": "code",
   "execution_count": 291,
   "metadata": {},
   "outputs": [],
   "source": [
    "from datetime import datetime\n",
    "\n",
    "current_year = datetime.now().year\n",
    "df['car_age'] = current_year - df['model_year']"
   ]
  },
  {
   "cell_type": "code",
   "execution_count": 292,
   "metadata": {},
   "outputs": [
    {
     "data": {
      "text/html": [
       "<div>\n",
       "<style scoped>\n",
       "    .dataframe tbody tr th:only-of-type {\n",
       "        vertical-align: middle;\n",
       "    }\n",
       "\n",
       "    .dataframe tbody tr th {\n",
       "        vertical-align: top;\n",
       "    }\n",
       "\n",
       "    .dataframe thead th {\n",
       "        text-align: right;\n",
       "    }\n",
       "</style>\n",
       "<table border=\"1\" class=\"dataframe\">\n",
       "  <thead>\n",
       "    <tr style=\"text-align: right;\">\n",
       "      <th></th>\n",
       "      <th>id</th>\n",
       "      <th>brand</th>\n",
       "      <th>model</th>\n",
       "      <th>model_year</th>\n",
       "      <th>milage</th>\n",
       "      <th>fuel_type</th>\n",
       "      <th>engine</th>\n",
       "      <th>transmission</th>\n",
       "      <th>ext_col</th>\n",
       "      <th>int_col</th>\n",
       "      <th>accident</th>\n",
       "      <th>clean_title</th>\n",
       "      <th>price</th>\n",
       "      <th>car_age</th>\n",
       "    </tr>\n",
       "  </thead>\n",
       "  <tbody>\n",
       "    <tr>\n",
       "      <th>0</th>\n",
       "      <td>0</td>\n",
       "      <td>MINI</td>\n",
       "      <td>Cooper S Base</td>\n",
       "      <td>2007</td>\n",
       "      <td>213000</td>\n",
       "      <td>Gasoline</td>\n",
       "      <td>172.0HP 1.6L 4 Cylinder Engine Gasoline Fuel</td>\n",
       "      <td>A/T</td>\n",
       "      <td>Yellow</td>\n",
       "      <td>Gray</td>\n",
       "      <td>None reported</td>\n",
       "      <td>Yes</td>\n",
       "      <td>4200</td>\n",
       "      <td>17</td>\n",
       "    </tr>\n",
       "    <tr>\n",
       "      <th>1</th>\n",
       "      <td>1</td>\n",
       "      <td>Lincoln</td>\n",
       "      <td>LS V8</td>\n",
       "      <td>2002</td>\n",
       "      <td>143250</td>\n",
       "      <td>Gasoline</td>\n",
       "      <td>252.0HP 3.9L 8 Cylinder Engine Gasoline Fuel</td>\n",
       "      <td>A/T</td>\n",
       "      <td>Silver</td>\n",
       "      <td>Beige</td>\n",
       "      <td>At least 1 accident or damage reported</td>\n",
       "      <td>Yes</td>\n",
       "      <td>4999</td>\n",
       "      <td>22</td>\n",
       "    </tr>\n",
       "    <tr>\n",
       "      <th>2</th>\n",
       "      <td>2</td>\n",
       "      <td>Chevrolet</td>\n",
       "      <td>Silverado 2500 LT</td>\n",
       "      <td>2002</td>\n",
       "      <td>136731</td>\n",
       "      <td>E85 Flex Fuel</td>\n",
       "      <td>320.0HP 5.3L 8 Cylinder Engine Flex Fuel Capab...</td>\n",
       "      <td>A/T</td>\n",
       "      <td>Blue</td>\n",
       "      <td>Gray</td>\n",
       "      <td>None reported</td>\n",
       "      <td>Yes</td>\n",
       "      <td>13900</td>\n",
       "      <td>22</td>\n",
       "    </tr>\n",
       "    <tr>\n",
       "      <th>3</th>\n",
       "      <td>3</td>\n",
       "      <td>Genesis</td>\n",
       "      <td>G90 5.0 Ultimate</td>\n",
       "      <td>2017</td>\n",
       "      <td>19500</td>\n",
       "      <td>Gasoline</td>\n",
       "      <td>420.0HP 5.0L 8 Cylinder Engine Gasoline Fuel</td>\n",
       "      <td>Transmission w/Dual Shift Mode</td>\n",
       "      <td>Black</td>\n",
       "      <td>Black</td>\n",
       "      <td>None reported</td>\n",
       "      <td>Yes</td>\n",
       "      <td>45000</td>\n",
       "      <td>7</td>\n",
       "    </tr>\n",
       "    <tr>\n",
       "      <th>4</th>\n",
       "      <td>4</td>\n",
       "      <td>Mercedes-Benz</td>\n",
       "      <td>Metris Base</td>\n",
       "      <td>2021</td>\n",
       "      <td>7388</td>\n",
       "      <td>Gasoline</td>\n",
       "      <td>208.0HP 2.0L 4 Cylinder Engine Gasoline Fuel</td>\n",
       "      <td>7-Speed A/T</td>\n",
       "      <td>Black</td>\n",
       "      <td>Beige</td>\n",
       "      <td>None reported</td>\n",
       "      <td>Yes</td>\n",
       "      <td>97500</td>\n",
       "      <td>3</td>\n",
       "    </tr>\n",
       "  </tbody>\n",
       "</table>\n",
       "</div>"
      ],
      "text/plain": [
       "   id          brand              model  model_year  milage      fuel_type  \\\n",
       "0   0           MINI      Cooper S Base        2007  213000       Gasoline   \n",
       "1   1        Lincoln              LS V8        2002  143250       Gasoline   \n",
       "2   2      Chevrolet  Silverado 2500 LT        2002  136731  E85 Flex Fuel   \n",
       "3   3        Genesis   G90 5.0 Ultimate        2017   19500       Gasoline   \n",
       "4   4  Mercedes-Benz        Metris Base        2021    7388       Gasoline   \n",
       "\n",
       "                                              engine  \\\n",
       "0       172.0HP 1.6L 4 Cylinder Engine Gasoline Fuel   \n",
       "1       252.0HP 3.9L 8 Cylinder Engine Gasoline Fuel   \n",
       "2  320.0HP 5.3L 8 Cylinder Engine Flex Fuel Capab...   \n",
       "3       420.0HP 5.0L 8 Cylinder Engine Gasoline Fuel   \n",
       "4       208.0HP 2.0L 4 Cylinder Engine Gasoline Fuel   \n",
       "\n",
       "                     transmission ext_col int_col  \\\n",
       "0                             A/T  Yellow    Gray   \n",
       "1                             A/T  Silver   Beige   \n",
       "2                             A/T    Blue    Gray   \n",
       "3  Transmission w/Dual Shift Mode   Black   Black   \n",
       "4                     7-Speed A/T   Black   Beige   \n",
       "\n",
       "                                 accident clean_title  price  car_age  \n",
       "0                           None reported         Yes   4200       17  \n",
       "1  At least 1 accident or damage reported         Yes   4999       22  \n",
       "2                           None reported         Yes  13900       22  \n",
       "3                           None reported         Yes  45000        7  \n",
       "4                           None reported         Yes  97500        3  "
      ]
     },
     "execution_count": 292,
     "metadata": {},
     "output_type": "execute_result"
    }
   ],
   "source": [
    "df.head()"
   ]
  },
  {
   "cell_type": "code",
   "execution_count": 293,
   "metadata": {},
   "outputs": [
    {
     "data": {
      "text/plain": [
       "id              0\n",
       "brand           0\n",
       "model           0\n",
       "model_year      0\n",
       "milage          0\n",
       "fuel_type       0\n",
       "engine          0\n",
       "transmission    0\n",
       "ext_col         0\n",
       "int_col         0\n",
       "accident        0\n",
       "clean_title     0\n",
       "price           0\n",
       "car_age         0\n",
       "dtype: int64"
      ]
     },
     "execution_count": 293,
     "metadata": {},
     "output_type": "execute_result"
    }
   ],
   "source": [
    "df.isnull().sum()"
   ]
  },
  {
   "cell_type": "markdown",
   "metadata": {},
   "source": [
    "### TRY 3"
   ]
  },
  {
   "cell_type": "code",
   "execution_count": 294,
   "metadata": {},
   "outputs": [
    {
     "data": {
      "text/plain": [
       "accident\n",
       "None reported                             122411\n",
       "At least 1 accident or damage reported     40199\n",
       "Name: count, dtype: int64"
      ]
     },
     "execution_count": 294,
     "metadata": {},
     "output_type": "execute_result"
    }
   ],
   "source": [
    "df['accident'].value_counts()"
   ]
  },
  {
   "cell_type": "code",
   "execution_count": 295,
   "metadata": {},
   "outputs": [
    {
     "name": "stderr",
     "output_type": "stream",
     "text": [
      "C:\\Users\\chescake\\AppData\\Local\\Temp\\ipykernel_13048\\3059782295.py:1: FutureWarning: Downcasting behavior in `replace` is deprecated and will be removed in a future version. To retain the old behavior, explicitly call `result.infer_objects(copy=False)`. To opt-in to the future behavior, set `pd.set_option('future.no_silent_downcasting', True)`\n",
      "  df['accident'] = df['accident'].replace({'None reported': 0,'At least 1 accident or damage reported': 1})\n"
     ]
    }
   ],
   "source": [
    "df['accident'] = df['accident'].replace({'None reported': 0,'At least 1 accident or damage reported': 1})"
   ]
  },
  {
   "cell_type": "code",
   "execution_count": 296,
   "metadata": {},
   "outputs": [
    {
     "data": {
      "text/plain": [
       "brand\n",
       "Ford             21348\n",
       "Mercedes-Benz    16530\n",
       "BMW              15461\n",
       "Chevrolet        15170\n",
       "Audi              9111\n",
       "Porsche           9025\n",
       "Toyota            7862\n",
       "Land              7857\n",
       "Lexus             7622\n",
       "Jeep              5330\n",
       "Cadillac          4330\n",
       "Nissan            3536\n",
       "RAM               3391\n",
       "INFINITI          3103\n",
       "GMC               2970\n",
       "Dodge             2967\n",
       "Mazda             2393\n",
       "Subaru            2281\n",
       "Lincoln           2261\n",
       "Honda             1828\n",
       "Acura             1738\n",
       "Hyundai           1714\n",
       "Kia               1659\n",
       "Volkswagen        1608\n",
       "Jaguar            1064\n",
       "MINI              1035\n",
       "Bentley           1012\n",
       "Maserati           836\n",
       "Genesis            826\n",
       "Buick              720\n",
       "Chrysler           693\n",
       "Volvo              656\n",
       "Mitsubishi         532\n",
       "Pontiac            530\n",
       "Rolls-Royce        521\n",
       "Hummer             515\n",
       "Alfa               508\n",
       "Lamborghini        500\n",
       "Tesla              343\n",
       "Ferrari            271\n",
       "Aston              216\n",
       "McLaren            188\n",
       "Saturn             144\n",
       "Scion              114\n",
       "Rivian              85\n",
       "Mercury             55\n",
       "Lotus               48\n",
       "FIAT                37\n",
       "Saab                22\n",
       "Lucid               17\n",
       "Plymouth             7\n",
       "Suzuki               6\n",
       "Bugatti              5\n",
       "Karma                4\n",
       "Maybach              3\n",
       "Polestar             1\n",
       "smart                1\n",
       "Name: count, dtype: int64"
      ]
     },
     "execution_count": 296,
     "metadata": {},
     "output_type": "execute_result"
    }
   ],
   "source": [
    "df['brand'].value_counts()"
   ]
  },
  {
   "cell_type": "code",
   "execution_count": 297,
   "metadata": {},
   "outputs": [
    {
     "data": {
      "text/plain": [
       "transmission\n",
       "A/T                                                   46931\n",
       "8-Speed A/T                                           20194\n",
       "Transmission w/Dual Shift Mode                        18972\n",
       "6-Speed A/T                                           17859\n",
       "6-Speed M/T                                           11833\n",
       "7-Speed A/T                                           10950\n",
       "10-Speed A/T                                           7915\n",
       "9-Speed A/T                                            3802\n",
       "8-Speed Automatic                                      3728\n",
       "5-Speed A/T                                            3172\n",
       "4-Speed A/T                                            2525\n",
       "5-Speed M/T                                            2380\n",
       "10-Speed Automatic                                     2178\n",
       "CVT Transmission                                       1949\n",
       "6-Speed Automatic                                      1709\n",
       "Automatic                                              1650\n",
       "9-Speed Automatic                                      1290\n",
       "M/T                                                    1146\n",
       "7-Speed Automatic with Auto-Shift                       516\n",
       "7-Speed M/T                                             340\n",
       "Automatic CVT                                           299\n",
       "8-Speed Automatic with Auto-Shift                       242\n",
       "1-Speed A/T                                             192\n",
       "Transmission Overdrive Switch                           156\n",
       "6-Speed Manual                                          109\n",
       "7-Speed Automatic                                       102\n",
       "5-Speed Automatic                                        89\n",
       "7-Speed Manual                                           68\n",
       "6-Speed Automatic with Auto-Shift                        60\n",
       "4-Speed Automatic                                        31\n",
       "1-Speed Automatic                                        29\n",
       "–                                                        26\n",
       "6-Speed Electronically Controlled Automatic with O       20\n",
       "10-Speed Automatic with Overdrive                        19\n",
       "7-Speed                                                  19\n",
       "2-Speed A/T                                              15\n",
       "F                                                        15\n",
       "6-Speed                                                  13\n",
       "9-Speed Automatic with Auto-Shift                        12\n",
       "2                                                        11\n",
       "7-Speed DCT Automatic                                    10\n",
       "Manual                                                    5\n",
       "8-Speed Manual                                            5\n",
       "Variable                                                  5\n",
       "CVT-F                                                     4\n",
       "6 Speed Mt                                                3\n",
       "6 Speed At/Mt                                             3\n",
       "2-Speed Automatic                                         3\n",
       "8-SPEED A/T                                               2\n",
       "Single-Speed Fixed Gear                                   2\n",
       "8-SPEED AT                                                1\n",
       "SCHEDULED FOR OR IN PRODUCTION                            1\n",
       "Name: count, dtype: int64"
      ]
     },
     "execution_count": 297,
     "metadata": {},
     "output_type": "execute_result"
    }
   ],
   "source": [
    "df['transmission'].value_counts()"
   ]
  },
  {
   "cell_type": "code",
   "execution_count": 298,
   "metadata": {},
   "outputs": [],
   "source": [
    "df.loc[df['transmission'].str.contains('Manual| M/T|Mt', na=False ), 'transmission'] = 'M/T'\n",
    "df.loc[df['transmission'].str.contains('Automatic| A/T|AT', na=False ), 'transmission'] = 'A/T'"
   ]
  },
  {
   "cell_type": "code",
   "execution_count": 299,
   "metadata": {},
   "outputs": [],
   "source": [
    "df=df[df['transmission'] != 'SCHEDULED FOR OR IN PRODUCTION']\n",
    "df=df[df['transmission'] != 'Single-Speed Fixed Gear']\n",
    "\n",
    "other_values = ['Transmission Overdrive Switch', '–', '7-Speed','F', '6-Speed', '2', 'Variable', 'CVT-F']\n",
    "df['transmission'] =df['transmission'].replace(other_values, 'Unclassified')"
   ]
  },
  {
   "cell_type": "code",
   "execution_count": 300,
   "metadata": {},
   "outputs": [
    {
     "data": {
      "text/plain": [
       "transmission\n",
       "A/T                               125545\n",
       "Transmission w/Dual Shift Mode     18972\n",
       "M/T                                15892\n",
       "CVT Transmission                    1949\n",
       "Unclassified                         249\n",
       "Name: count, dtype: int64"
      ]
     },
     "execution_count": 300,
     "metadata": {},
     "output_type": "execute_result"
    }
   ],
   "source": [
    "df['transmission'].value_counts()"
   ]
  },
  {
   "cell_type": "code",
   "execution_count": 301,
   "metadata": {},
   "outputs": [
    {
     "data": {
      "text/plain": [
       "fuel_type\n",
       "Gasoline          147394\n",
       "E85 Flex Fuel       5235\n",
       "Hybrid              5061\n",
       "Diesel              3652\n",
       "–                    755\n",
       "Plug-In Hybrid       495\n",
       "not supported         15\n",
       "Name: count, dtype: int64"
      ]
     },
     "execution_count": 301,
     "metadata": {},
     "output_type": "execute_result"
    }
   ],
   "source": [
    "df['fuel_type'].value_counts()"
   ]
  },
  {
   "cell_type": "code",
   "execution_count": 302,
   "metadata": {},
   "outputs": [
    {
     "data": {
      "text/plain": [
       "fuel_type\n",
       "0    147394\n",
       "3      5556\n",
       "2      5235\n",
       "1      3652\n",
       "4        15\n",
       "Name: count, dtype: int64"
      ]
     },
     "execution_count": 302,
     "metadata": {},
     "output_type": "execute_result"
    }
   ],
   "source": [
    "df['fuel_type'] = df['fuel_type'].replace({'Gasoline': 0, 'Diesel':1, 'E85 Flex Fuel': 2, 'Hybrid':3, 'Plug-In Hybrid': 3, 'not supported': 4})\n",
    "df=df[df['fuel_type'] != '–']\n",
    "\n",
    "df['fuel_type'].value_counts()"
   ]
  },
  {
   "cell_type": "code",
   "execution_count": 303,
   "metadata": {},
   "outputs": [
    {
     "name": "stderr",
     "output_type": "stream",
     "text": [
      "C:\\Users\\chescake\\AppData\\Local\\Temp\\ipykernel_13048\\853841517.py:4: FutureWarning: A value is trying to be set on a copy of a DataFrame or Series through chained assignment using an inplace method.\n",
      "The behavior will change in pandas 3.0. This inplace method will never work because the intermediate object on which we are setting values always behaves as a copy.\n",
      "\n",
      "For example, when doing 'df[col].method(value, inplace=True)', try using 'df.method({col: value}, inplace=True)' or df[col] = df[col].method(value) instead, to perform the operation inplace on the original object.\n",
      "\n",
      "\n",
      "  df['transmission'].fillna(df['transmission'].median(), inplace=True)\n"
     ]
    }
   ],
   "source": [
    "from sklearn.preprocessing import OneHotEncoder, LabelEncoder\n",
    "label_encoder = LabelEncoder()\n",
    "df['transmission'] = label_encoder.fit_transform(df['transmission'])\n",
    "df['transmission'].fillna(df['transmission'].median(), inplace=True)"
   ]
  },
  {
   "cell_type": "code",
   "execution_count": 304,
   "metadata": {},
   "outputs": [],
   "source": [
    "df.loc[df['clean_title'].str.contains('Yes', na=False ), 'clean_title'] = 0"
   ]
  },
  {
   "cell_type": "code",
   "execution_count": 305,
   "metadata": {},
   "outputs": [
    {
     "data": {
      "text/plain": [
       "clean_title\n",
       "0    161852\n",
       "Name: count, dtype: int64"
      ]
     },
     "execution_count": 305,
     "metadata": {},
     "output_type": "execute_result"
    }
   ],
   "source": [
    "df['clean_title'].value_counts()"
   ]
  },
  {
   "cell_type": "code",
   "execution_count": 306,
   "metadata": {},
   "outputs": [],
   "source": [
    "df['HP'] = df['engine'].str.extract(r'(\\d+\\.?\\d*)(?=HP)').astype(float)\n",
    "df['Liters'] = df['engine'].str.extract(r'(\\d+\\.?\\d*)(?=L)').astype(float)"
   ]
  },
  {
   "cell_type": "code",
   "execution_count": 307,
   "metadata": {},
   "outputs": [],
   "source": [
    "df.drop(columns=['engine', 'int_col', 'ext_col', 'model', 'id'], inplace=True)"
   ]
  },
  {
   "cell_type": "code",
   "execution_count": 308,
   "metadata": {},
   "outputs": [
    {
     "name": "stderr",
     "output_type": "stream",
     "text": [
      "C:\\Users\\chescake\\AppData\\Local\\Temp\\ipykernel_13048\\460774141.py:2: FutureWarning: A value is trying to be set on a copy of a DataFrame or Series through chained assignment using an inplace method.\n",
      "The behavior will change in pandas 3.0. This inplace method will never work because the intermediate object on which we are setting values always behaves as a copy.\n",
      "\n",
      "For example, when doing 'df[col].method(value, inplace=True)', try using 'df.method({col: value}, inplace=True)' or df[col] = df[col].method(value) instead, to perform the operation inplace on the original object.\n",
      "\n",
      "\n",
      "  df['brand'].fillna(df['brand'].median(), inplace=True)\n"
     ]
    }
   ],
   "source": [
    "df['brand'] = label_encoder.fit_transform(df['brand'])\n",
    "df['brand'].fillna(df['brand'].median(), inplace=True)"
   ]
  },
  {
   "cell_type": "code",
   "execution_count": 309,
   "metadata": {},
   "outputs": [
    {
     "name": "stdout",
     "output_type": "stream",
     "text": [
      "<class 'pandas.core.frame.DataFrame'>\n",
      "Index: 161852 entries, 0 to 188532\n",
      "Data columns (total 11 columns):\n",
      " #   Column        Non-Null Count   Dtype  \n",
      "---  ------        --------------   -----  \n",
      " 0   brand         161852 non-null  int64  \n",
      " 1   model_year    161852 non-null  int64  \n",
      " 2   milage        161852 non-null  int64  \n",
      " 3   fuel_type     161852 non-null  object \n",
      " 4   transmission  161852 non-null  int64  \n",
      " 5   accident      161852 non-null  int64  \n",
      " 6   clean_title   161852 non-null  object \n",
      " 7   price         161852 non-null  int64  \n",
      " 8   car_age       161852 non-null  int64  \n",
      " 9   HP            149185 non-null  float64\n",
      " 10  Liters        160820 non-null  float64\n",
      "dtypes: float64(2), int64(7), object(2)\n",
      "memory usage: 14.8+ MB\n"
     ]
    }
   ],
   "source": [
    "df.info()"
   ]
  },
  {
   "cell_type": "code",
   "execution_count": 310,
   "metadata": {},
   "outputs": [],
   "source": [
    "test_url = 'https://github.com/robitussin/CCMACLRL_EXAM/blob/a46a4e2a001dedaefc9b431d480b508ce86c2d96/datasets/test.csv?raw=true'\n",
    "dt=pd.read_csv(test_url)"
   ]
  },
  {
   "cell_type": "code",
   "execution_count": 311,
   "metadata": {},
   "outputs": [
    {
     "name": "stdout",
     "output_type": "stream",
     "text": [
      "<class 'pandas.core.frame.DataFrame'>\n",
      "RangeIndex: 125690 entries, 0 to 125689\n",
      "Data columns (total 12 columns):\n",
      " #   Column        Non-Null Count   Dtype \n",
      "---  ------        --------------   ----- \n",
      " 0   id            125690 non-null  int64 \n",
      " 1   brand         125690 non-null  object\n",
      " 2   model         125690 non-null  object\n",
      " 3   model_year    125690 non-null  int64 \n",
      " 4   milage        125690 non-null  int64 \n",
      " 5   fuel_type     122307 non-null  object\n",
      " 6   engine        125690 non-null  object\n",
      " 7   transmission  125690 non-null  object\n",
      " 8   ext_col       125690 non-null  object\n",
      " 9   int_col       125690 non-null  object\n",
      " 10  accident      124058 non-null  object\n",
      " 11  clean_title   111451 non-null  object\n",
      "dtypes: int64(3), object(9)\n",
      "memory usage: 11.5+ MB\n"
     ]
    }
   ],
   "source": [
    "dt.info()"
   ]
  },
  {
   "cell_type": "code",
   "execution_count": 312,
   "metadata": {},
   "outputs": [],
   "source": [
    "dt['car_age'] = current_year - dt['model_year']"
   ]
  },
  {
   "cell_type": "code",
   "execution_count": 313,
   "metadata": {},
   "outputs": [
    {
     "name": "stderr",
     "output_type": "stream",
     "text": [
      "C:\\Users\\chescake\\AppData\\Local\\Temp\\ipykernel_13048\\2175668488.py:1: FutureWarning: Downcasting behavior in `replace` is deprecated and will be removed in a future version. To retain the old behavior, explicitly call `result.infer_objects(copy=False)`. To opt-in to the future behavior, set `pd.set_option('future.no_silent_downcasting', True)`\n",
      "  dt['accident'] = dt['accident'].replace({'None reported': 0,'At least 1 accident or damage reported': 1})\n"
     ]
    }
   ],
   "source": [
    "dt['accident'] = dt['accident'].replace({'None reported': 0,'At least 1 accident or damage reported': 1})\n"
   ]
  },
  {
   "cell_type": "code",
   "execution_count": 314,
   "metadata": {},
   "outputs": [],
   "source": [
    "dt.loc[dt['transmission'].str.contains('Manual| M/T|Mt', na=False ), 'transmission'] = 'M/T'\n",
    "dt.loc[dt['transmission'].str.contains('Automatic| A/T|AT', na=False ), 'transmission'] = 'A/T'\n",
    "\n",
    "dt['transmission'] =dt['transmission'].replace(other_values, 'Unclassified')"
   ]
  },
  {
   "cell_type": "code",
   "execution_count": 315,
   "metadata": {},
   "outputs": [
    {
     "data": {
      "text/plain": [
       "transmission\n",
       "A/T                               100305\n",
       "Transmission w/Dual Shift Mode     12824\n",
       "M/T                                10828\n",
       "CVT Transmission                    1337\n",
       "Unclassified                         375\n",
       "Single-Speed Fixed Gear               12\n",
       "SCHEDULED FOR OR IN PRODUCTION         9\n",
       "Name: count, dtype: int64"
      ]
     },
     "execution_count": 315,
     "metadata": {},
     "output_type": "execute_result"
    }
   ],
   "source": [
    "dt['transmission'].value_counts()"
   ]
  },
  {
   "cell_type": "code",
   "execution_count": 316,
   "metadata": {},
   "outputs": [],
   "source": [
    "dt['fuel_type'] = dt['fuel_type'].replace({'Gasoline': 0, 'Diesel':1, 'E85 Flex Fuel': 2, 'Hybrid':3, 'Plug-In Hybrid': 3, 'not supported': 4})"
   ]
  },
  {
   "cell_type": "code",
   "execution_count": 317,
   "metadata": {},
   "outputs": [
    {
     "name": "stdout",
     "output_type": "stream",
     "text": [
      "<class 'pandas.core.frame.DataFrame'>\n",
      "Index: 161852 entries, 0 to 188532\n",
      "Data columns (total 11 columns):\n",
      " #   Column        Non-Null Count   Dtype  \n",
      "---  ------        --------------   -----  \n",
      " 0   brand         161852 non-null  int64  \n",
      " 1   model_year    161852 non-null  int64  \n",
      " 2   milage        161852 non-null  int64  \n",
      " 3   fuel_type     161852 non-null  object \n",
      " 4   transmission  161852 non-null  int64  \n",
      " 5   accident      161852 non-null  int64  \n",
      " 6   clean_title   161852 non-null  object \n",
      " 7   price         161852 non-null  int64  \n",
      " 8   car_age       161852 non-null  int64  \n",
      " 9   HP            149185 non-null  float64\n",
      " 10  Liters        160820 non-null  float64\n",
      "dtypes: float64(2), int64(7), object(2)\n",
      "memory usage: 14.8+ MB\n"
     ]
    }
   ],
   "source": [
    "df.info()"
   ]
  },
  {
   "cell_type": "code",
   "execution_count": 318,
   "metadata": {},
   "outputs": [],
   "source": [
    "dt.loc[dt['clean_title'].str.contains('Yes', na=False ), 'clean_title'] = 0"
   ]
  },
  {
   "cell_type": "code",
   "execution_count": 319,
   "metadata": {},
   "outputs": [
    {
     "name": "stdout",
     "output_type": "stream",
     "text": [
      "<class 'pandas.core.frame.DataFrame'>\n",
      "RangeIndex: 125690 entries, 0 to 125689\n",
      "Data columns (total 15 columns):\n",
      " #   Column        Non-Null Count   Dtype  \n",
      "---  ------        --------------   -----  \n",
      " 0   id            125690 non-null  int64  \n",
      " 1   brand         125690 non-null  object \n",
      " 2   model         125690 non-null  object \n",
      " 3   model_year    125690 non-null  int64  \n",
      " 4   milage        125690 non-null  int64  \n",
      " 5   fuel_type     122307 non-null  object \n",
      " 6   engine        125690 non-null  object \n",
      " 7   transmission  125690 non-null  object \n",
      " 8   ext_col       125690 non-null  object \n",
      " 9   int_col       125690 non-null  object \n",
      " 10  accident      124058 non-null  float64\n",
      " 11  clean_title   111451 non-null  object \n",
      " 12  car_age       125690 non-null  int64  \n",
      " 13  HP            103509 non-null  float64\n",
      " 14  Liters        116283 non-null  float64\n",
      "dtypes: float64(3), int64(4), object(8)\n",
      "memory usage: 14.4+ MB\n"
     ]
    }
   ],
   "source": [
    "dt['HP'] = dt['engine'].str.extract(r'(\\d+\\.?\\d*)(?=HP)').astype(float)\n",
    "dt['Liters'] = dt['engine'].str.extract(r'(\\d+\\.?\\d*)(?=L)').astype(float)\n",
    "dt.info()"
   ]
  },
  {
   "cell_type": "code",
   "execution_count": 320,
   "metadata": {},
   "outputs": [],
   "source": [
    "dt.drop(columns=['engine', 'int_col', 'ext_col', 'model', 'id' ], inplace=True)"
   ]
  },
  {
   "cell_type": "code",
   "execution_count": 321,
   "metadata": {},
   "outputs": [
    {
     "name": "stderr",
     "output_type": "stream",
     "text": [
      "C:\\Users\\chescake\\AppData\\Local\\Temp\\ipykernel_13048\\854870417.py:2: FutureWarning: A value is trying to be set on a copy of a DataFrame or Series through chained assignment using an inplace method.\n",
      "The behavior will change in pandas 3.0. This inplace method will never work because the intermediate object on which we are setting values always behaves as a copy.\n",
      "\n",
      "For example, when doing 'df[col].method(value, inplace=True)', try using 'df.method({col: value}, inplace=True)' or df[col] = df[col].method(value) instead, to perform the operation inplace on the original object.\n",
      "\n",
      "\n",
      "  dt['transmission'].fillna(dt['transmission'].median(), inplace=True)\n"
     ]
    }
   ],
   "source": [
    "dt['transmission'] = label_encoder.fit_transform(dt['transmission'])\n",
    "dt['transmission'].fillna(dt['transmission'].median(), inplace=True)"
   ]
  },
  {
   "cell_type": "code",
   "execution_count": 322,
   "metadata": {},
   "outputs": [
    {
     "name": "stderr",
     "output_type": "stream",
     "text": [
      "C:\\Users\\chescake\\AppData\\Local\\Temp\\ipykernel_13048\\3432106698.py:2: FutureWarning: A value is trying to be set on a copy of a DataFrame or Series through chained assignment using an inplace method.\n",
      "The behavior will change in pandas 3.0. This inplace method will never work because the intermediate object on which we are setting values always behaves as a copy.\n",
      "\n",
      "For example, when doing 'df[col].method(value, inplace=True)', try using 'df.method({col: value}, inplace=True)' or df[col] = df[col].method(value) instead, to perform the operation inplace on the original object.\n",
      "\n",
      "\n",
      "  dt['brand'].fillna(df['brand'].median(), inplace=True)\n"
     ]
    }
   ],
   "source": [
    "dt['brand'] = label_encoder.fit_transform(dt['brand'])\n",
    "dt['brand'].fillna(df['brand'].median(), inplace=True)"
   ]
  },
  {
   "cell_type": "code",
   "execution_count": 323,
   "metadata": {},
   "outputs": [
    {
     "name": "stdout",
     "output_type": "stream",
     "text": [
      "<class 'pandas.core.frame.DataFrame'>\n",
      "Index: 161852 entries, 0 to 188532\n",
      "Data columns (total 11 columns):\n",
      " #   Column        Non-Null Count   Dtype  \n",
      "---  ------        --------------   -----  \n",
      " 0   brand         161852 non-null  int64  \n",
      " 1   model_year    161852 non-null  int64  \n",
      " 2   milage        161852 non-null  int64  \n",
      " 3   fuel_type     161852 non-null  object \n",
      " 4   transmission  161852 non-null  int64  \n",
      " 5   accident      161852 non-null  int64  \n",
      " 6   clean_title   161852 non-null  object \n",
      " 7   price         161852 non-null  int64  \n",
      " 8   car_age       161852 non-null  int64  \n",
      " 9   HP            149185 non-null  float64\n",
      " 10  Liters        160820 non-null  float64\n",
      "dtypes: float64(2), int64(7), object(2)\n",
      "memory usage: 14.8+ MB\n"
     ]
    }
   ],
   "source": [
    "df.info()"
   ]
  },
  {
   "cell_type": "code",
   "execution_count": 324,
   "metadata": {},
   "outputs": [
    {
     "name": "stdout",
     "output_type": "stream",
     "text": [
      "<class 'pandas.core.frame.DataFrame'>\n",
      "RangeIndex: 125690 entries, 0 to 125689\n",
      "Data columns (total 10 columns):\n",
      " #   Column        Non-Null Count   Dtype  \n",
      "---  ------        --------------   -----  \n",
      " 0   brand         125690 non-null  int64  \n",
      " 1   model_year    125690 non-null  int64  \n",
      " 2   milage        125690 non-null  int64  \n",
      " 3   fuel_type     122307 non-null  object \n",
      " 4   transmission  125690 non-null  int64  \n",
      " 5   accident      124058 non-null  float64\n",
      " 6   clean_title   111451 non-null  object \n",
      " 7   car_age       125690 non-null  int64  \n",
      " 8   HP            103509 non-null  float64\n",
      " 9   Liters        116283 non-null  float64\n",
      "dtypes: float64(3), int64(5), object(2)\n",
      "memory usage: 9.6+ MB\n"
     ]
    }
   ],
   "source": [
    "dt.info()"
   ]
  },
  {
   "cell_type": "code",
   "execution_count": 325,
   "metadata": {},
   "outputs": [],
   "source": [
    "df.fillna(0, inplace=True)"
   ]
  },
  {
   "cell_type": "code",
   "execution_count": 326,
   "metadata": {},
   "outputs": [],
   "source": [
    "X = df.drop(['price'],axis=1)\n",
    "y = df['price']\n",
    "X_train,X_test,y_train,y_test = train_test_split(X,y,test_size=0.4,random_state=42)"
   ]
  },
  {
   "cell_type": "code",
   "execution_count": 327,
   "metadata": {},
   "outputs": [
    {
     "name": "stdout",
     "output_type": "stream",
     "text": [
      "74837.48996424336\n"
     ]
    },
    {
     "name": "stderr",
     "output_type": "stream",
     "text": [
      "c:\\Users\\chescake\\anaconda3\\envs\\olympiaCOM222ML\\lib\\site-packages\\sklearn\\metrics\\_regression.py:492: FutureWarning: 'squared' is deprecated in version 1.4 and will be removed in 1.6. To calculate the root mean squared error, use the function'root_mean_squared_error'.\n",
      "  warnings.warn(\n"
     ]
    }
   ],
   "source": [
    "X = df.drop(['price'],axis=1)\n",
    "y = df['price']\n",
    "X_train,X_test,y_train,y_test = train_test_split(X,y,test_size=0.4,random_state=42)\n",
    "     \n",
    "\n",
    "model = LinearRegression()\n",
    "model.fit(X_train,y_train)\n",
    "\n",
    "y_pred = model.predict(X_test)\n",
    "\n",
    "rmse = mean_squared_error(y_test,y_pred, squared=False)\n",
    "\n",
    "print(rmse)"
   ]
  },
  {
   "cell_type": "code",
   "execution_count": 328,
   "metadata": {},
   "outputs": [
    {
     "name": "stderr",
     "output_type": "stream",
     "text": [
      "C:\\Users\\chescake\\AppData\\Local\\Temp\\ipykernel_13048\\3756933955.py:1: FutureWarning: A value is trying to be set on a copy of a DataFrame or Series through chained assignment using an inplace method.\n",
      "The behavior will change in pandas 3.0. This inplace method will never work because the intermediate object on which we are setting values always behaves as a copy.\n",
      "\n",
      "For example, when doing 'df[col].method(value, inplace=True)', try using 'df.method({col: value}, inplace=True)' or df[col] = df[col].method(value) instead, to perform the operation inplace on the original object.\n",
      "\n",
      "\n",
      "  dt['fuel_type'] = dt['fuel_type'].replace(\"\", \"-\" ,inplace=True)\n",
      "C:\\Users\\chescake\\AppData\\Local\\Temp\\ipykernel_13048\\3756933955.py:2: FutureWarning: Downcasting object dtype arrays on .fillna, .ffill, .bfill is deprecated and will change in a future version. Call result.infer_objects(copy=False) instead. To opt-in to the future behavior, set `pd.set_option('future.no_silent_downcasting', True)`\n",
      "  dt.fillna(0, inplace=True)\n"
     ]
    }
   ],
   "source": [
    "dt['fuel_type'] = dt['fuel_type'].replace(\"\", \"-\" ,inplace=True)\n",
    "dt.fillna(0, inplace=True)"
   ]
  },
  {
   "cell_type": "code",
   "execution_count": 329,
   "metadata": {},
   "outputs": [],
   "source": [
    "sample_submission_url = 'https://github.com/robitussin/CCMACLRL_EXAM/blob/a46a4e2a001dedaefc9b431d480b508ce86c2d96/datasets/sample_submission.csv?raw=true'\n",
    "\n",
    "sf=pd.read_csv(sample_submission_url)"
   ]
  },
  {
   "cell_type": "code",
   "execution_count": 330,
   "metadata": {},
   "outputs": [],
   "source": [
    "id = sf.pop('id')\n",
    "y_pred = model.predict(dt)\n",
    "\n",
    "# Create a submission DataFrame\n",
    "submission_df = pd.DataFrame({\n",
    "    'id': id,\n",
    "    'price': y_pred\n",
    "})"
   ]
  },
  {
   "cell_type": "code",
   "execution_count": 333,
   "metadata": {},
   "outputs": [
    {
     "name": "stdout",
     "output_type": "stream",
     "text": [
      "Submission file created: submission_file.csv\n"
     ]
    }
   ],
   "source": [
    "# Save the submission DataFrame to a CSV file\n",
    "submission_df.to_csv('submission_file.csv', index=False)\n",
    "print(\"Submission file created: submission_file.csv\")"
   ]
  },
  {
   "cell_type": "code",
   "execution_count": null,
   "metadata": {},
   "outputs": [],
   "source": []
  }
 ],
 "metadata": {
  "kernelspec": {
   "display_name": "olympiaCOM222ML",
   "language": "python",
   "name": "python3"
  },
  "language_info": {
   "codemirror_mode": {
    "name": "ipython",
    "version": 3
   },
   "file_extension": ".py",
   "mimetype": "text/x-python",
   "name": "python",
   "nbconvert_exporter": "python",
   "pygments_lexer": "ipython3",
   "version": "3.10.14"
  }
 },
 "nbformat": 4,
 "nbformat_minor": 2
}
